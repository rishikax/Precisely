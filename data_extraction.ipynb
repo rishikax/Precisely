{
 "cells": [
  {
   "cell_type": "code",
   "execution_count": 43,
   "metadata": {},
   "outputs": [],
   "source": [
    "import pandas as pd\n",
    "import requests\n",
    "import time\n",
    "import json\n",
    "from tqdm import tqdm\n",
    "\n",
    "df = pd.read_csv('UnivCity.csv')"
   ]
  },
  {
   "cell_type": "code",
   "execution_count": 45,
   "metadata": {},
   "outputs": [
    {
     "name": "stderr",
     "output_type": "stream",
     "text": [
      "Processing: 100%|██████████| 6947/6947 [24:53<00:00,  4.65row/s] \n"
     ]
    }
   ],
   "source": [
    "df['CITY'] = 'Philadelphia'\n",
    "df['DISTRICT'] = 'University City'\n",
    "df['REGION'] = 'West Philadelphia'\n",
    "\n",
    "df['preciselyID'] = None\n",
    "df['livingSquareFootage'] = None\n",
    "df['saleAmount'] = None\n",
    "\n",
    "access_token = 'Bearer eyJhbGciOiJSUzI1NiIsInR5cCIgOiAiSldUIiwia2lkIiA6ICJON1NUbF9iQVo2Qk93MXZGUkNYM1Q2OWsyR0laTGw1cVd2MmZyMTdvTk1BIn0.eyJleHAiOjE3Mjg0MDY4NzUsImlhdCI6MTcyODQwMzI3NSwianRpIjoiOTViYjhiNzQtMjQxZC00N2NjLWJjYzktOWY0NGYwYWM4YTNmIiwiaXNzIjoiaHR0cHM6Ly9hdXRoLmNsb3VkLnByZWNpc2VseS5jb20vYXV0aC9yZWFsbXMvUHJlY2lzZWx5IiwiYXVkIjoiUHJlY2lzZWx5Iiwic3ViIjoiYzZmMGYxYTYtNGUzNy00NGVjLWFhMTItZGU5M2RkYjNkYzk2IiwidHlwIjoiQmVhcmVyIiwiYXpwIjoiT0lEQy1ESVMtU2hlbGwiLCJzZXNzaW9uX3N0YXRlIjoiNjNmOGNkZDUtZjVkYi00Yjk4LWE2MjEtMGJlMDkxNjUwYmMwIiwiYWxsb3dlZC1vcmlnaW5zIjpbIioiXSwic2NvcGUiOiJ1cG4gcHJvZmlsZSBlbWFpbCIsInNpZCI6IjYzZjhjZGQ1LWY1ZGItNGI5OC1hNjIxLTBiZTA5MTY1MGJjMCIsInJlc291cmNlX2FjY2VzcyI6eyJPSURDLUNvbm5lY3QiOnsicm9sZXMiOlsiRGVzaWduZXIiLCJPcGVyYXRvciJdfSwiT0lEQy1ESVMtQ3VzdG9tZXJBY2NvdW50TWFuYWdlbWVudCI6eyJyb2xlcyI6WyJhZG1pbiIsImFnZW50YWRtaW5pc3RyYXRvciJdfSwiT0lEQy1EaXNjb3ZlcnkiOnsicm9sZXMiOlsiYWRtaW4iLCJ1c2VyIl19LCJicm9rZXIiOnsicm9sZXMiOlsicmVhZC10b2tlbiJdfSwiT0lEQy1ESVMtRFFDb3JlIjp7InJvbGVzIjpbIkRlc2lnbmVyIiwiT3BlcmF0b3IiXX19LCJlbWFpbF92ZXJpZmllZCI6dHJ1ZSwiY3VzdG9tZXJfYWNjb3VudF9pZHMiOlsiY25qdGEyeHcwbnhkdjhiaCJdLCJzdXJyb2dhdGVVc2VySWQiOiIwMHVtcGM2ajkxQVRGaGIxZTR4NyIsInByZWZlcnJlZF91c2VybmFtZSI6InJpc2hpa2EubGFsbEBkcmV4ZWwuZWR1IiwiZ2l2ZW5fbmFtZSI6IlJpc2hpa2EiLCJzdWJzY3JpcHRpb25faWQiOiJudWxsIiwidXBuIjoicmlzaGlrYS5sYWxsQGRyZXhlbC5lZHUiLCJjdXJyZW50X3dvcmtzcGFjZV9pZCI6ImNuanRhMnh3MG54ZHY4YmgiLCJlbnRpdGxlbWVudF9pZCI6Im51bGwiLCJuYW1lIjoiUmlzaGlrYSBMYWxsIiwicmVnaW9uIjoiVVMxIiwiZmFtaWx5X25hbWUiOiJMYWxsIiwiZW1haWwiOiJyaXNoaWthLmxhbGxAZHJleGVsLmVkdSJ9.l2Mr6aZaQ89JXatD5Q2ejDDHielpF58MwP0B-cbHtwfKu7-JsJz5SfSOQv946cTjB_Y9GSMm6Jeo8KfQuZLWZU_VkkkTdTItHqPgrOokhO2_L5GF1OsL6DoaoteAAAOKcQymV796n5Eq8iAF2cWNBIvg5TMAaNWbOhe5zW2P8ha_8pwAJuQd_66dIcrGjnIKInS_fy1hrtU7jtVW6WSzSUiOwissfz1sIDuS4R_JADqTHj1r1HIP49VO8qIVuClFBZMzvgOSFkDIbGJDZjUZCp6JfBTvRrKsRx6tvHURanJP_UPqSyRtE1i6AJkB3MUwstJ8G2lrAplycxixPwDV3A'\n",
    "\n",
    "headers = {\n",
    "  'cache-disabled': 'true',\n",
    "  'Content-Type': 'application/json',\n",
    "  'Authorization': access_token\n",
    "}\n",
    "\n",
    "url = \"https://api.cloud.precisely.com/data-graph/graphql\"\n",
    "\n",
    "def fetch_property_data(row):\n",
    "    address = f\"{row['NUMBER']} {row['STREET']}, {row['CITY']} PA\".strip()\n",
    "    payload = f\"\"\"\n",
    "    {{\n",
    "      \"query\": \"query propertyAttributesByAddress {{\\\\n  getByAddress(address: \\\\\"{address}\\\\\") {{\\\\n    propertyAttributes {{\\\\n      data {{\\\\n        preciselyID\\\\n        livingSquareFootage\\\\n        saleAmount\\\\n      }}\\\\n    }}\\\\n  }}\\\\n}}\",\n",
    "      \"variables\": {{}}\n",
    "    }}\n",
    "    \"\"\"\n",
    "    response = requests.request(\"POST\", url, headers=headers, data=payload)\n",
    "    if response.status_code == 200:\n",
    "        try:\n",
    "            result = response.json()\n",
    "            data = result['data']['getByAddress']['propertyAttributes']['data'][0]\n",
    "            return data['preciselyID'], data.get('livingSquareFootage'), data.get('saleAmount')\n",
    "        except (KeyError, IndexError, TypeError):\n",
    "            return None, None, None\n",
    "    else:\n",
    "        return None, None, None\n",
    "\n",
    "def update_dataframe_with_api_data(df):\n",
    "    batch_size = 200\n",
    "    total_entries = len(df)\n",
    "    with tqdm(total=total_entries, desc=\"Processing\", unit=\"row\") as pbar:\n",
    "        for i in range(0, total_entries, batch_size):\n",
    "            batch = df[i:i + batch_size]\n",
    "            for idx, row in batch.iterrows():\n",
    "                preciselyID, livingSquareFootage, saleAmount = fetch_property_data(row)\n",
    "                df.at[idx, 'preciselyID'] = preciselyID\n",
    "                df.at[idx, 'livingSquareFootage'] = livingSquareFootage\n",
    "                df.at[idx, 'saleAmount'] = saleAmount\n",
    "                pbar.update(1)\n",
    "            time.sleep(1)\n",
    "    \n",
    "    return df\n",
    "\n",
    "df = update_dataframe_with_api_data(df)"
   ]
  },
  {
   "cell_type": "code",
   "execution_count": 48,
   "metadata": {},
   "outputs": [
    {
     "name": "stderr",
     "output_type": "stream",
     "text": [
      "Processing Buildings: 100%|██████████| 6947/6947 [26:25<00:00,  4.38row/s]\n"
     ]
    }
   ],
   "source": [
    "def fetch_building_data(row):\n",
    "    address = f\"{row['NUMBER']} {row['STREET']}, {row['CITY']} PA\".strip()\n",
    "    payload = f\"\"\"\n",
    "    {{\n",
    "      \"query\": \"query getBuildingByAddress {{\\\\n  getByAddress(address: \\\\\"{address}\\\\\") {{\\\\n    buildings {{\\\\n      data {{\\\\n        buildingID\\\\n        buildingType {{\\\\n          description\\\\n        }}\\\\n        elevation\\\\n        maximumElevation\\\\n        minimumElevation\\\\n        buildingArea\\\\n      }}\\\\n    }}\\\\n  }}\\\\n}}\",\n",
    "      \"variables\": {{}}\n",
    "    }}\n",
    "    \"\"\"\n",
    "    response = requests.request(\"POST\", url, headers=headers, data=payload)\n",
    "    if response.status_code == 200:\n",
    "        try:\n",
    "            result = response.json()\n",
    "            data = result['data']['getByAddress']['buildings']['data'][0]\n",
    "            return (data.get('buildingID'), \n",
    "                    data['buildingType'].get('description'), \n",
    "                    data.get('elevation'), \n",
    "                    data.get('maximumElevation'), \n",
    "                    data.get('minimumElevation'), \n",
    "                    data.get('buildingArea'))\n",
    "        except (KeyError, IndexError, TypeError):\n",
    "            return None, None, None, None, None, None\n",
    "    else:\n",
    "        return None, None, None, None, None, None\n",
    "\n",
    "def update_dataframe_with_building_data(df):\n",
    "    batch_size = 200\n",
    "    total_entries = len(df)\n",
    "    with tqdm(total=total_entries, desc=\"Processing Buildings\", unit=\"row\") as pbar:\n",
    "        for i in range(0, total_entries, batch_size):\n",
    "            batch = df[i:i + batch_size]\n",
    "            for idx, row in batch.iterrows():\n",
    "                (buildingID, buildingType, elevation, maximumElevation, \n",
    "                 minimumElevation, buildingArea) = fetch_building_data(row)\n",
    "                df.at[idx, 'buildingID'] = buildingID\n",
    "                df.at[idx, 'buildingType'] = buildingType\n",
    "                df.at[idx, 'elevation'] = elevation\n",
    "                df.at[idx, 'maximumElevation'] = maximumElevation\n",
    "                df.at[idx, 'minimumElevation'] = minimumElevation\n",
    "                df.at[idx, 'buildingArea'] = buildingArea\n",
    "                pbar.update(1)\n",
    "            time.sleep(1)\n",
    "    \n",
    "    return df\n",
    "\n",
    "# Initialize new columns in the dataframe\n",
    "df['buildingID'] = None\n",
    "df['buildingType'] = None\n",
    "df['elevation'] = None\n",
    "df['maximumElevation'] = None\n",
    "df['minimumElevation'] = None\n",
    "df['buildingArea'] = None\n",
    "\n",
    "# Update the dataframe with building data\n",
    "df = update_dataframe_with_building_data(df)"
   ]
  },
  {
   "cell_type": "markdown",
   "metadata": {},
   "source": []
  },
  {
   "cell_type": "code",
   "execution_count": 54,
   "metadata": {},
   "outputs": [
    {
     "data": {
      "text/plain": [
       "(11947, 20)"
      ]
     },
     "execution_count": 54,
     "metadata": {},
     "output_type": "execute_result"
    }
   ],
   "source": [
    "df1 = pd.read_csv('UnivCity_first5k.csv')\n",
    "df2 = pd.read_csv('UnivCity_last7k.csv')\n",
    "\n",
    "df = pd.concat([df1, df2], axis=0, ignore_index=True)\n",
    "df.shape"
   ]
  },
  {
   "cell_type": "code",
   "execution_count": 58,
   "metadata": {},
   "outputs": [
    {
     "data": {
      "text/plain": [
       "<bound method NDFrame.head of              LON        LAT NUMBER         STREET UNIT          CITY  \\\n",
       "0     -75.206209  39.969039   4102       OGDEN ST   AB  Philadelphia   \n",
       "1     -75.207125  39.956518   4215    CHESTNUT ST    A  Philadelphia   \n",
       "2     -75.207125  39.956518   4215    CHESTNUT ST    B  Philadelphia   \n",
       "3     -75.207125  39.956518   4215    CHESTNUT ST    C  Philadelphia   \n",
       "4     -75.207125  39.956518   4215    CHESTNUT ST    D  Philadelphia   \n",
       "...          ...        ...    ...            ...  ...           ...   \n",
       "11942 -75.210915  39.974724   4226  W THOMPSON ST  NaN  Philadelphia   \n",
       "11943 -75.207302  39.963791   4203     WALLACE ST  NaN  Philadelphia   \n",
       "11944 -75.202472  39.969104    848       UNION ST  NaN  Philadelphia   \n",
       "11945 -75.207398  39.963783   4207     WALLACE ST  NaN  Philadelphia   \n",
       "11946 -75.202222  39.967805    810       UNION ST  NaN  Philadelphia   \n",
       "\n",
       "              DISTRICT             REGION  POSTCODE         ID  \\\n",
       "0      University City  West Philadelphia     19104  886740095   \n",
       "1      University City  West Philadelphia     19104  272012837   \n",
       "2      University City  West Philadelphia     19104  272012839   \n",
       "3      University City  West Philadelphia     19104  272012841   \n",
       "4      University City  West Philadelphia     19104  272012843   \n",
       "...                ...                ...       ...        ...   \n",
       "11942  University City  West Philadelphia     19104   62190000   \n",
       "11943  University City  West Philadelphia     19104   61100100   \n",
       "11944  University City  West Philadelphia     19104  243155200   \n",
       "11945  University City  West Philadelphia     19104   61100300   \n",
       "11946  University City  West Philadelphia     19104  243153500   \n",
       "\n",
       "                   HASH   preciselyID  livingSquareFootage  saleAmount  \\\n",
       "0      6fe85ffddef02977           NaN                  NaN         NaN   \n",
       "1      a9767341c0cbe589  P0000JCD8L2K                  NaN         NaN   \n",
       "2      46e6a17201df7dd2  P0000JCD8L2K                  NaN         NaN   \n",
       "3      a166854dac25162f  P0000JCD8L2K                  NaN         NaN   \n",
       "4      d916601b5ac1a0d4  P0000JCD8L2K                  NaN         NaN   \n",
       "...                 ...           ...                  ...         ...   \n",
       "11942  888a99b129fb59ff  P0000JCBUJIS               1436.0    101500.0   \n",
       "11943  9cd759635d2cbb59  P0000JCBUGDQ                754.0      1400.0   \n",
       "11944  d59f960bc646b716  P0000JCBUFIO               1208.0     97000.0   \n",
       "11945  168f53837db01cf9  P0000JCBUGDS                921.0    200000.0   \n",
       "11946  c988f6e5fd0d92c8  P0000JCBUFK6               1128.0     80000.0   \n",
       "\n",
       "         buildingID buildingType  elevation  maximumElevation  \\\n",
       "0      B000CTRV1G0R  Residential      113.0             114.0   \n",
       "1      B000CTQ2IAN0        Mixed       76.0              87.0   \n",
       "2      B000CTQ2IAN0        Mixed       76.0              87.0   \n",
       "3      B000CTQ2IAN0        Mixed       76.0              87.0   \n",
       "4      B000CTQ2IAN0        Mixed       76.0              87.0   \n",
       "...             ...          ...        ...               ...   \n",
       "11942  B000CTQ2JZOV  Residential      119.0             120.0   \n",
       "11943  B000CTQ2GSHF  Residential       98.0             100.0   \n",
       "11944  B000CTRV219P  Residential      106.0             106.0   \n",
       "11945  B000CTQ2A9LZ  Residential       99.0             101.0   \n",
       "11946  B000CTQ2CO81  Residential      103.0             104.0   \n",
       "\n",
       "       minimumElevation  buildingArea  \n",
       "0                 112.0         912.0  \n",
       "1                  73.0       55727.0  \n",
       "2                  73.0       55727.0  \n",
       "3                  73.0       55727.0  \n",
       "4                  73.0       55727.0  \n",
       "...                 ...           ...  \n",
       "11942             118.0         985.0  \n",
       "11943              98.0         507.0  \n",
       "11944             104.0         935.0  \n",
       "11945              99.0         578.0  \n",
       "11946             101.0         698.0  \n",
       "\n",
       "[11947 rows x 20 columns]>"
      ]
     },
     "execution_count": 58,
     "metadata": {},
     "output_type": "execute_result"
    }
   ],
   "source": [
    "df.head"
   ]
  },
  {
   "cell_type": "code",
   "execution_count": null,
   "metadata": {},
   "outputs": [],
   "source": []
  }
 ],
 "metadata": {
  "kernelspec": {
   "display_name": "base",
   "language": "python",
   "name": "python3"
  },
  "language_info": {
   "codemirror_mode": {
    "name": "ipython",
    "version": 3
   },
   "file_extension": ".py",
   "mimetype": "text/x-python",
   "name": "python",
   "nbconvert_exporter": "python",
   "pygments_lexer": "ipython3",
   "version": "3.11.5"
  }
 },
 "nbformat": 4,
 "nbformat_minor": 2
}
