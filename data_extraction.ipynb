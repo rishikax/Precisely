{
 "cells": [
  {
   "cell_type": "code",
   "execution_count": 1,
   "metadata": {},
   "outputs": [],
   "source": [
    "import pandas as pd\n",
    "import requests\n",
    "import time\n",
    "import json\n",
    "from tqdm import tqdm\n",
    "\n",
    "df = pd.read_csv('UnivCity.csv')"
   ]
  },
  {
   "cell_type": "code",
   "execution_count": null,
   "metadata": {},
   "outputs": [],
   "source": [
    "auth_token = ''"
   ]
  },
  {
   "cell_type": "code",
   "execution_count": 45,
   "metadata": {},
   "outputs": [
    {
     "name": "stderr",
     "output_type": "stream",
     "text": [
      "Processing: 100%|██████████| 6947/6947 [24:53<00:00,  4.65row/s] \n"
     ]
    }
   ],
   "source": [
    "df['CITY'] = 'Philadelphia'\n",
    "df['DISTRICT'] = 'University City'\n",
    "df['REGION'] = 'West Philadelphia'\n",
    "\n",
    "df['preciselyID'] = None\n",
    "df['livingSquareFootage'] = None\n",
    "df['saleAmount'] = None\n",
    "\n",
    "access_token = 'Bearer ' +  auth_token\n",
    "\n",
    "headers = {\n",
    "  'cache-disabled': 'true',\n",
    "  'Content-Type': 'application/json',\n",
    "  'Authorization': access_token\n",
    "}\n",
    "\n",
    "url = \"https://api.cloud.precisely.com/data-graph/graphql\"\n",
    "\n",
    "def fetch_property_data(row):\n",
    "    address = f\"{row['NUMBER']} {row['STREET']}, {row['CITY']} PA\".strip()\n",
    "    payload = f\"\"\"\n",
    "    {{\n",
    "      \"query\": \"query propertyAttributesByAddress {{\\\\n  getByAddress(address: \\\\\"{address}\\\\\") {{\\\\n    propertyAttributes {{\\\\n      data {{\\\\n        preciselyID\\\\n        livingSquareFootage\\\\n        saleAmount\\\\n      }}\\\\n    }}\\\\n  }}\\\\n}}\",\n",
    "      \"variables\": {{}}\n",
    "    }}\n",
    "    \"\"\"\n",
    "    response = requests.request(\"POST\", url, headers=headers, data=payload)\n",
    "    if response.status_code == 200:\n",
    "        try:\n",
    "            result = response.json()\n",
    "            data = result['data']['getByAddress']['propertyAttributes']['data'][0]\n",
    "            return data['preciselyID'], data.get('livingSquareFootage'), data.get('saleAmount')\n",
    "        except (KeyError, IndexError, TypeError):\n",
    "            return None, None, None\n",
    "    else:\n",
    "        return None, None, None\n",
    "\n",
    "def update_dataframe_with_api_data(df):\n",
    "    batch_size = 200\n",
    "    total_entries = len(df)\n",
    "    with tqdm(total=total_entries, desc=\"Processing\", unit=\"row\") as pbar:\n",
    "        for i in range(0, total_entries, batch_size):\n",
    "            batch = df[i:i + batch_size]\n",
    "            for idx, row in batch.iterrows():\n",
    "                preciselyID, livingSquareFootage, saleAmount = fetch_property_data(row)\n",
    "                df.at[idx, 'preciselyID'] = preciselyID\n",
    "                df.at[idx, 'livingSquareFootage'] = livingSquareFootage\n",
    "                df.at[idx, 'saleAmount'] = saleAmount\n",
    "                pbar.update(1)\n",
    "            time.sleep(1)\n",
    "    \n",
    "    return df\n",
    "\n",
    "df = update_dataframe_with_api_data(df)"
   ]
  },
  {
   "cell_type": "code",
   "execution_count": 48,
   "metadata": {},
   "outputs": [
    {
     "name": "stderr",
     "output_type": "stream",
     "text": [
      "Processing Buildings: 100%|██████████| 6947/6947 [26:25<00:00,  4.38row/s]\n"
     ]
    }
   ],
   "source": [
    "def fetch_building_data(row):\n",
    "    address = f\"{row['NUMBER']} {row['STREET']}, {row['CITY']} PA\".strip()\n",
    "    payload = f\"\"\"\n",
    "    {{\n",
    "      \"query\": \"query getBuildingByAddress {{\\\\n  getByAddress(address: \\\\\"{address}\\\\\") {{\\\\n    buildings {{\\\\n      data {{\\\\n        buildingID\\\\n        buildingType {{\\\\n          description\\\\n        }}\\\\n        elevation\\\\n        maximumElevation\\\\n        minimumElevation\\\\n        buildingArea\\\\n      }}\\\\n    }}\\\\n  }}\\\\n}}\",\n",
    "      \"variables\": {{}}\n",
    "    }}\n",
    "    \"\"\"\n",
    "    response = requests.request(\"POST\", url, headers=headers, data=payload)\n",
    "    if response.status_code == 200:\n",
    "        try:\n",
    "            result = response.json()\n",
    "            data = result['data']['getByAddress']['buildings']['data'][0]\n",
    "            return (data.get('buildingID'), \n",
    "                    data['buildingType'].get('description'), \n",
    "                    data.get('elevation'), \n",
    "                    data.get('maximumElevation'), \n",
    "                    data.get('minimumElevation'), \n",
    "                    data.get('buildingArea'))\n",
    "        except (KeyError, IndexError, TypeError):\n",
    "            return None, None, None, None, None, None\n",
    "    else:\n",
    "        return None, None, None, None, None, None\n",
    "\n",
    "def update_dataframe_with_building_data(df):\n",
    "    batch_size = 200\n",
    "    total_entries = len(df)\n",
    "    with tqdm(total=total_entries, desc=\"Processing Buildings\", unit=\"row\") as pbar:\n",
    "        for i in range(0, total_entries, batch_size):\n",
    "            batch = df[i:i + batch_size]\n",
    "            for idx, row in batch.iterrows():\n",
    "                (buildingID, buildingType, elevation, maximumElevation, \n",
    "                 minimumElevation, buildingArea) = fetch_building_data(row)\n",
    "                df.at[idx, 'buildingID'] = buildingID\n",
    "                df.at[idx, 'buildingType'] = buildingType\n",
    "                df.at[idx, 'elevation'] = elevation\n",
    "                df.at[idx, 'maximumElevation'] = maximumElevation\n",
    "                df.at[idx, 'minimumElevation'] = minimumElevation\n",
    "                df.at[idx, 'buildingArea'] = buildingArea\n",
    "                pbar.update(1)\n",
    "            time.sleep(1)\n",
    "    \n",
    "    return df\n",
    "\n",
    "# Initialize new columns in the dataframe\n",
    "df['buildingID'] = None\n",
    "df['buildingType'] = None\n",
    "df['elevation'] = None\n",
    "df['maximumElevation'] = None\n",
    "df['minimumElevation'] = None\n",
    "df['buildingArea'] = None\n",
    "\n",
    "# Update the dataframe with building data\n",
    "df = update_dataframe_with_building_data(df)"
   ]
  },
  {
   "cell_type": "markdown",
   "metadata": {},
   "source": []
  },
  {
   "cell_type": "code",
   "execution_count": 2,
   "metadata": {},
   "outputs": [
    {
     "data": {
      "text/plain": [
       "(11947, 20)"
      ]
     },
     "execution_count": 2,
     "metadata": {},
     "output_type": "execute_result"
    }
   ],
   "source": [
    "df1 = pd.read_csv('UnivCity_first5k.csv')\n",
    "df2 = pd.read_csv('UnivCity_last7k.csv')\n",
    "\n",
    "df = pd.concat([df1, df2], axis=0, ignore_index=True)\n",
    "df.shape"
   ]
  },
  {
   "cell_type": "code",
   "execution_count": 3,
   "metadata": {},
   "outputs": [],
   "source": [
    "df.to_csv('final_UnivCity.csv', index = False)"
   ]
  },
  {
   "cell_type": "code",
   "execution_count": null,
   "metadata": {},
   "outputs": [],
   "source": []
  }
 ],
 "metadata": {
  "kernelspec": {
   "display_name": "base",
   "language": "python",
   "name": "python3"
  },
  "language_info": {
   "codemirror_mode": {
    "name": "ipython",
    "version": 3
   },
   "file_extension": ".py",
   "mimetype": "text/x-python",
   "name": "python",
   "nbconvert_exporter": "python",
   "pygments_lexer": "ipython3",
   "version": "3.11.5"
  }
 },
 "nbformat": 4,
 "nbformat_minor": 2
}
